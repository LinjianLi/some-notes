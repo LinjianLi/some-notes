{
 "cells": [
  {
   "cell_type": "markdown",
   "metadata": {},
   "source": [
    "# PyTorch and TensorFlow"
   ]
  },
  {
   "cell_type": "markdown",
   "metadata": {},
   "source": [
    "我之前一直没理解为什么 PyTorch 的一些 API 输入一批数据的时候要规定数据的维度的第二维是 batch size，而不是放在第一个维度。\n",
    "\n",
    "例如 NLP 里的一些 module 的输入维度是 (max_length, batch_size, input_size)，即第一维是每条语句的最大长度（词数量），第二维是批大小，第三位是词嵌入的维度大小。\n",
    "\n",
    "后来看了 PyTorch Chatbot 的教程才知道，这样做的好处是，对输入数据取第一个维度的下标的时候，一次就能取到所有 batch 的该下标对应的 time-step。这在 GPU 上并行的时候就会方便很多。\n",
    "\n",
    "如果把 batch size 放在第一个维度，那么如果想取所有 batch 的某一个 time-step，就要用到 Python 的 slice 操作，例如 "
   ]
  },
  {
   "cell_type": "code",
   "execution_count": 11,
   "metadata": {},
   "outputs": [
    {
     "name": "stdout",
     "output_type": "stream",
     "text": [
      "[12 22 32]\n"
     ]
    }
   ],
   "source": [
    "import numpy as np\n",
    "data = np.array([[11, 12, 13],\n",
    "                 [21, 22, 23],\n",
    "                 [31, 32, 33]])\n",
    "print(data[:,1])"
   ]
  },
  {
   "cell_type": "code",
   "execution_count": null,
   "metadata": {},
   "outputs": [],
   "source": []
  }
 ],
 "metadata": {
  "kernelspec": {
   "display_name": "Python 3",
   "language": "python",
   "name": "python3"
  },
  "language_info": {
   "codemirror_mode": {
    "name": "ipython",
    "version": 3
   },
   "file_extension": ".py",
   "mimetype": "text/x-python",
   "name": "python",
   "nbconvert_exporter": "python",
   "pygments_lexer": "ipython3",
   "version": "3.7.4"
  }
 },
 "nbformat": 4,
 "nbformat_minor": 2
}
