{
 "cells": [
  {
   "cell_type": "markdown",
   "metadata": {},
   "source": [
    "# Python Best Practices"
   ]
  },
  {
   "cell_type": "code",
   "execution_count": 1,
   "metadata": {},
   "outputs": [
    {
     "name": "stdout",
     "output_type": "stream",
     "text": [
      "Latest run time: [2021-12-18 17:08:17.122384]\n"
     ]
    }
   ],
   "source": [
    "import datetime\n",
    "print(\"Latest run time: [{}]\".format(datetime.datetime.now()))"
   ]
  },
  {
   "cell_type": "markdown",
   "metadata": {},
   "source": [
    "## Random Choice"
   ]
  },
  {
   "cell_type": "markdown",
   "metadata": {},
   "source": [
    "### 总结写在前面\n",
    "\n",
    "1. 如果需要从一个列表里随机选出多个样本，不要用 `for` 循环一个一个选，要用 `numpy.random.choice()` 并传入 `size` 参数，或者用 `random.choices()` 并传入 `k` 参数。\n",
    "    1. 两者都比用 `for` 循环一个一个采样要快很多，可加速 5-500 倍不等。\n",
    "    2. 前者比后者快 20 倍。\n",
    "2. 有时候确实需要用 `for` 或 `while` 循环逐个采样，也就是每次只选一个样本，进行多次选择。这时候不要用 `numpy.random.choice()` 而应该用 `random.choice()`。\n",
    "    1. 后者比前者快 5-10 倍不等。\n",
    "    2. 例如动态替换一个列表 X 中的元素，每个元素 xi 都有一定的概率被替换，并且用于替换的候选元素也在一个列表 Y 里，每次替换，列表 Y 的每个元素 yi 都有一定概率被选中。这种动态替换方式就很难用 `numpy` 或 `random` 内置的方法实现。"
   ]
  },
  {
   "cell_type": "markdown",
   "metadata": {},
   "source": [
    "Define a Python decorator for recording the elapsed time used by a function."
   ]
  },
  {
   "cell_type": "code",
   "execution_count": 2,
   "metadata": {},
   "outputs": [],
   "source": [
    "import time\n",
    "\n",
    "def time_elapsed(fn):\n",
    "    def wraped_fn(*args, **kwargs):\n",
    "        start = time.time()\n",
    "        output = fn(*args, **kwargs)\n",
    "        end = time.time()\n",
    "        print(\"Function [{}] time elapsed: {} seconds\".format(fn.__name__, end-start))\n",
    "        return output\n",
    "    return wraped_fn"
   ]
  },
  {
   "cell_type": "markdown",
   "metadata": {},
   "source": [
    "Define two functions using different implementations."
   ]
  },
  {
   "cell_type": "code",
   "execution_count": 3,
   "metadata": {
    "scrolled": true
   },
   "outputs": [
    {
     "name": "stdout",
     "output_type": "stream",
     "text": [
      "Function [random_choice_use_numpy] time elapsed: 1.3469736576080322 seconds\n",
      "Function [random_choice_use_random_v1] time elapsed: 0.11700439453125 seconds\n",
      "Function [random_choice_use_random_v2] time elapsed: 0.17999649047851562 seconds\n",
      "Function [random_choice_use_random_v3] time elapsed: 0.054015159606933594 seconds\n"
     ]
    }
   ],
   "source": [
    "import numpy\n",
    "import random\n",
    "\n",
    "@time_elapsed\n",
    "def random_choice_use_numpy():\n",
    "    candidates = [i for i in range(100)]\n",
    "    for i in range(10**5):\n",
    "        choice = numpy.random.choice(candidates)\n",
    "\n",
    "@time_elapsed\n",
    "def random_choice_use_random_v1():\n",
    "    candidates = [i for i in range(100)]\n",
    "    for i in range(10**5):\n",
    "        choice = random.choice(candidates)\n",
    "\n",
    "@time_elapsed\n",
    "def random_choice_use_random_v2():\n",
    "    candidates = [i for i in range(100)]\n",
    "    for i in range(10**5):\n",
    "        choice = candidates[random.randrange(0, len(candidates))]\n",
    "\n",
    "@time_elapsed\n",
    "def random_choice_use_random_v3():\n",
    "    candidates = [i for i in range(100)]\n",
    "    for i in range(10**5):\n",
    "        choice = candidates[int(random.random() * len(candidates))]\n",
    "\n",
    "random_choice_use_numpy()\n",
    "random_choice_use_random_v1()\n",
    "random_choice_use_random_v2()\n",
    "random_choice_use_random_v3()"
   ]
  },
  {
   "cell_type": "markdown",
   "metadata": {},
   "source": [
    "### Choose Multiple Samples"
   ]
  },
  {
   "cell_type": "code",
   "execution_count": 4,
   "metadata": {},
   "outputs": [
    {
     "name": "stdout",
     "output_type": "stream",
     "text": [
      "Function [random_multiple_choice_use_numpy] time elapsed: 0.003997087478637695 seconds\n",
      "Function [random_multiple_choice_use_random] time elapsed: 0.032004594802856445 seconds\n"
     ]
    }
   ],
   "source": [
    "@time_elapsed\n",
    "def random_multiple_choice_use_numpy():\n",
    "    candidates = [i for i in range(100)]\n",
    "    choice = numpy.random.choice(candidates, size=(10**5))\n",
    "\n",
    "@time_elapsed\n",
    "def random_multiple_choice_use_random():\n",
    "    candidates = [i for i in range(100)]\n",
    "    choice = random.choices(candidates, k=(10**5))\n",
    "\n",
    "random_multiple_choice_use_numpy()\n",
    "random_multiple_choice_use_random()"
   ]
  }
 ],
 "metadata": {
  "kernelspec": {
   "display_name": "Python 3",
   "language": "python",
   "name": "python3"
  },
  "language_info": {
   "codemirror_mode": {
    "name": "ipython",
    "version": 3
   },
   "file_extension": ".py",
   "mimetype": "text/x-python",
   "name": "python",
   "nbconvert_exporter": "python",
   "pygments_lexer": "ipython3",
   "version": "3.7.4"
  }
 },
 "nbformat": 4,
 "nbformat_minor": 2
}
